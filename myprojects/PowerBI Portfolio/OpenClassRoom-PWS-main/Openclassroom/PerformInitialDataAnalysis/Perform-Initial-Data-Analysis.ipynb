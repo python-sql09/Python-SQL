{
 "cells": [
  {
   "cell_type": "code",
   "execution_count": 4,
   "id": "3e148dae-1126-487f-b9d1-c5c14795715a",
   "metadata": {},
   "outputs": [],
   "source": [
    "import pandas as pd\n",
    "import numpy as np\n",
    "import re"
   ]
  },
  {
   "cell_type": "code",
   "execution_count": 6,
   "id": "dfeb3d10-04c7-4da1-bef4-bbfc5d79364e",
   "metadata": {},
   "outputs": [
    {
     "name": "stdout",
     "output_type": "stream",
     "text": [
      "  first name                                   email  date_of_birth  \\\n",
      "0      Leila                       leila@example.com     23/01/1990   \n",
      "1     Samuel                  samuel_329@example.com     20/09/2001   \n",
      "2     Rodney                choupipoune@supermail.eu  12 sept. 1984   \n",
      "3       Marc  marco23@example.com, mc23@supermail.eu     10/02/1978   \n",
      "4      Harry                 helloworld@supermail.eu     04/25/1975   \n",
      "5      Hanna                 hannah2019@supermail.eu     01/01/1970   \n",
      "6     samuël                  samuel_329@example.com            NaN   \n",
      "\n",
      "      country height  \n",
      "0      France  1.49m  \n",
      "1         NaN  1.67m  \n",
      "2  Madagascar  153cm  \n",
      "3          24  1.65m  \n",
      "4     Germany  1.34m  \n",
      "5      Canada  3.45m  \n",
      "6       Benin  1.45m  \n"
     ]
    }
   ],
   "source": [
    "data = pd.read_csv(\"persons.csv\")\n",
    "print(data)"
   ]
  },
  {
   "cell_type": "code",
   "execution_count": 10,
   "id": "45c1adf2-ea0c-4cde-a8b6-02ce340fecbc",
   "metadata": {},
   "outputs": [
    {
     "name": "stdout",
     "output_type": "stream",
     "text": [
      "Here is the first value :  Leila\n",
      "Here is the first value :  Samuel\n",
      "Here is the first value :  Rodney\n",
      "Here is the first value :  Marc\n",
      "Here is the first value :  Harry\n",
      "Here is the first value :  Hanna\n",
      "Here is the first value :  samuël\n"
     ]
    }
   ],
   "source": [
    "def lower_case(value): \n",
    "    print('Here is the first value : ', value)\n",
    "    return value.lower()\n",
    "data['first_name_min'] = data['first name'].apply(lower_case)"
   ]
  },
  {
   "cell_type": "code",
   "execution_count": 12,
   "id": "71951626-0a3d-478f-ab3b-36615455e586",
   "metadata": {},
   "outputs": [],
   "source": [
    "del data['first_name_min']"
   ]
  },
  {
   "cell_type": "code",
   "execution_count": 14,
   "id": "74e2055e-2c04-4338-8b7f-fde475bb505a",
   "metadata": {},
   "outputs": [],
   "source": [
    "VALID_COUNTRIES = ['France', 'Madagascar', 'Benin', 'Germany'\n",
    "                  , 'Canada']"
   ]
  },
  {
   "cell_type": "code",
   "execution_count": 16,
   "id": "dbf53a5f-e730-4d17-bf01-03a2eb3367f7",
   "metadata": {},
   "outputs": [],
   "source": [
    "def check_country(country):\n",
    "    if country not in VALID_COUNTRIES:\n",
    "        print(' - \"{}\" is not a valid country, we delete it.' \\\n",
    "            .format(country))\n",
    "        return np.NaN\n",
    "    return country"
   ]
  },
  {
   "cell_type": "code",
   "execution_count": 18,
   "id": "518fd8bb-2b40-4de6-b4a6-2911e5ffb8a7",
   "metadata": {},
   "outputs": [],
   "source": [
    "def first(string):\n",
    "    parts = string.split(',')\n",
    "    first_part = parts[0]\n",
    "    if len(parts) >= 2:\n",
    "        print(' - There are several parts in \"{}\", we are only keeping {}.'\\\n",
    "            .format(parts,first_part))  \n",
    "    return first_part"
   ]
  },
  {
   "cell_type": "code",
   "execution_count": 22,
   "id": "b2ef0926-6b7b-48a8-bf92-43fa344b160e",
   "metadata": {},
   "outputs": [],
   "source": [
    "def convert_height(height):\n",
    "    found = re.search(r'\\d\\.\\d{2}m', height)\n",
    "    if found is None:\n",
    "        print('{} is not in the right format. It will be ignored.'.format(height))\n",
    "        return np.NaN\n",
    "    else:\n",
    "        value = height[:-1] # the last character is removed: 'm'\n",
    "        return float(value)\n",
    "\n",
    "def fill_height(height, replacement):\n",
    "    if pd.isnull(height):\n",
    "        print('Imputation by the mean : {}'.format(replacement))\n",
    "        return replacement\n",
    "    return height"
   ]
  },
  {
   "cell_type": "code",
   "execution_count": 26,
   "id": "1566d22d-2bdd-420d-8e06-b07382270ba2",
   "metadata": {},
   "outputs": [
    {
     "name": "stdout",
     "output_type": "stream",
     "text": [
      " - \"nan\" is not a valid country, we delete it.\n",
      " - \"nan\" is not a valid country, we delete it.\n"
     ]
    }
   ],
   "source": [
    "data['email'] = data['email'].apply(first)\n",
    "data['country'] = data['country'].apply(check_country)"
   ]
  },
  {
   "cell_type": "code",
   "execution_count": 30,
   "id": "da8f707f-9f19-458e-a6d3-5bb700f361a7",
   "metadata": {},
   "outputs": [],
   "source": [
    "data['date_of_birth'] = pd.to_datetime(data['date_of_birth'], \n",
    "                                           format='%d/%m/%Y', errors='coerce')"
   ]
  },
  {
   "cell_type": "code",
   "execution_count": 32,
   "id": "e1d234c7-a47a-411f-9bba-702c47d3d3e9",
   "metadata": {},
   "outputs": [
    {
     "name": "stdout",
     "output_type": "stream",
     "text": [
      "153cm is not in the right format. It will be ignored.\n"
     ]
    }
   ],
   "source": [
    "data['height'] = [convert_height(t) for t in data['height']]\n",
    "data['height'] = [t if t<3 else np.NaN for t in data['height']]\n",
    "mean_height = data['height'].mean()"
   ]
  },
  {
   "cell_type": "code",
   "execution_count": 34,
   "id": "58314d39-2884-4ce2-b105-d444f4146109",
   "metadata": {},
   "outputs": [
    {
     "data": {
      "text/html": [
       "<div>\n",
       "<style scoped>\n",
       "    .dataframe tbody tr th:only-of-type {\n",
       "        vertical-align: middle;\n",
       "    }\n",
       "\n",
       "    .dataframe tbody tr th {\n",
       "        vertical-align: top;\n",
       "    }\n",
       "\n",
       "    .dataframe thead th {\n",
       "        text-align: right;\n",
       "    }\n",
       "</style>\n",
       "<table border=\"1\" class=\"dataframe\">\n",
       "  <thead>\n",
       "    <tr style=\"text-align: right;\">\n",
       "      <th></th>\n",
       "      <th>first name</th>\n",
       "      <th>email</th>\n",
       "      <th>date_of_birth</th>\n",
       "      <th>country</th>\n",
       "      <th>height</th>\n",
       "    </tr>\n",
       "  </thead>\n",
       "  <tbody>\n",
       "    <tr>\n",
       "      <th>0</th>\n",
       "      <td>Leila</td>\n",
       "      <td>leila@example.com</td>\n",
       "      <td>1990-01-23</td>\n",
       "      <td>France</td>\n",
       "      <td>1.49</td>\n",
       "    </tr>\n",
       "    <tr>\n",
       "      <th>1</th>\n",
       "      <td>Samuel</td>\n",
       "      <td>samuel_329@example.com</td>\n",
       "      <td>2001-09-20</td>\n",
       "      <td>NaN</td>\n",
       "      <td>1.67</td>\n",
       "    </tr>\n",
       "    <tr>\n",
       "      <th>2</th>\n",
       "      <td>Rodney</td>\n",
       "      <td>choupipoune@supermail.eu</td>\n",
       "      <td>NaT</td>\n",
       "      <td>Madagascar</td>\n",
       "      <td>NaN</td>\n",
       "    </tr>\n",
       "    <tr>\n",
       "      <th>3</th>\n",
       "      <td>Marc</td>\n",
       "      <td>marco23@example.com</td>\n",
       "      <td>1978-02-10</td>\n",
       "      <td>NaN</td>\n",
       "      <td>1.65</td>\n",
       "    </tr>\n",
       "    <tr>\n",
       "      <th>4</th>\n",
       "      <td>Harry</td>\n",
       "      <td>helloworld@supermail.eu</td>\n",
       "      <td>NaT</td>\n",
       "      <td>Germany</td>\n",
       "      <td>1.34</td>\n",
       "    </tr>\n",
       "    <tr>\n",
       "      <th>5</th>\n",
       "      <td>Hanna</td>\n",
       "      <td>hannah2019@supermail.eu</td>\n",
       "      <td>1970-01-01</td>\n",
       "      <td>Canada</td>\n",
       "      <td>NaN</td>\n",
       "    </tr>\n",
       "    <tr>\n",
       "      <th>6</th>\n",
       "      <td>samuël</td>\n",
       "      <td>samuel_329@example.com</td>\n",
       "      <td>NaT</td>\n",
       "      <td>Benin</td>\n",
       "      <td>1.45</td>\n",
       "    </tr>\n",
       "  </tbody>\n",
       "</table>\n",
       "</div>"
      ],
      "text/plain": [
       "  first name                     email date_of_birth     country  height\n",
       "0      Leila         leila@example.com    1990-01-23      France    1.49\n",
       "1     Samuel    samuel_329@example.com    2001-09-20         NaN    1.67\n",
       "2     Rodney  choupipoune@supermail.eu           NaT  Madagascar     NaN\n",
       "3       Marc       marco23@example.com    1978-02-10         NaN    1.65\n",
       "4      Harry   helloworld@supermail.eu           NaT     Germany    1.34\n",
       "5      Hanna   hannah2019@supermail.eu    1970-01-01      Canada     NaN\n",
       "6     samuël    samuel_329@example.com           NaT       Benin    1.45"
      ]
     },
     "execution_count": 34,
     "metadata": {},
     "output_type": "execute_result"
    }
   ],
   "source": [
    "data"
   ]
  },
  {
   "cell_type": "code",
   "execution_count": 36,
   "id": "b22cb6c9-74c6-43d8-a1ad-bc46900fdcf2",
   "metadata": {},
   "outputs": [
    {
     "ename": "NameError",
     "evalue": "name 'new_column' is not defined",
     "output_type": "error",
     "traceback": [
      "\u001b[0;31m---------------------------------------------------------------------------\u001b[0m",
      "\u001b[0;31mNameError\u001b[0m                                 Traceback (most recent call last)",
      "Cell \u001b[0;32mIn[36], line 1\u001b[0m\n\u001b[0;32m----> 1\u001b[0m data[\u001b[38;5;124m\"\u001b[39m\u001b[38;5;124mname_column\u001b[39m\u001b[38;5;124m\"\u001b[39m] \u001b[38;5;241m=\u001b[39m new_column\n",
      "\u001b[0;31mNameError\u001b[0m: name 'new_column' is not defined"
     ]
    }
   ],
   "source": [
    "data[\"name_column\"] = new_column"
   ]
  },
  {
   "cell_type": "code",
   "execution_count": 38,
   "id": "c9404f60-20e2-4173-920d-2924cd63aed8",
   "metadata": {},
   "outputs": [
    {
     "name": "stdout",
     "output_type": "stream",
     "text": [
      "Here is the value I am processing :  A\n",
      "Here is the value I am processing :  B\n",
      "Here is the value I am processing :  C\n",
      "['a' 'b' 'c']\n",
      "  letter  position\n",
      "0      a         1\n",
      "1      b         2\n",
      "2      c         3\n"
     ]
    }
   ],
   "source": [
    "import pandas as pd # the Pandas Libraries is imported and aliased 'pd'.\n",
    "\n",
    "def lower_case(value): \n",
    "    print('Here is the value I am processing : ', value)\n",
    "    return value.lower()\n",
    "\n",
    "data = pd.DataFrame([['A',1],\n",
    "                     ['B',2],\n",
    "                     ['C',3]], columns = ['letter','position'])\n",
    "\n",
    "new_column = data['letter'].apply(lower_case)\n",
    "new_column = new_column.values\n",
    "print(new_column)\n",
    "data['letter'] = new_column\n",
    "print(data)"
   ]
  },
  {
   "cell_type": "code",
   "execution_count": 42,
   "id": "7e24985f-b84f-48e0-a673-21e726dcc492",
   "metadata": {},
   "outputs": [
    {
     "name": "stdout",
     "output_type": "stream",
     "text": [
      "  first name                                   email  date_of_birth  \\\n",
      "0      Leila                       leila@example.com     23/01/1990   \n",
      "1     Samuel                  samuel_329@example.com     20/09/2001   \n",
      "2     Rodney                choupipoune@supermail.eu  12 sept. 1984   \n",
      "3       Marc  marco23@example.com, mc23@supermail.eu     10/02/1978   \n",
      "4      Harry                 helloworld@supermail.eu     04/25/1975   \n",
      "5      Hanna                 hannah2019@supermail.eu     01/01/1970   \n",
      "6     samuël                  samuel_329@example.com            NaN   \n",
      "\n",
      "      country height  \n",
      "0      France  1.49m  \n",
      "1         NaN  1.67m  \n",
      "2  Madagascar  153cm  \n",
      "3          24  1.65m  \n",
      "4     Germany  1.34m  \n",
      "5      Canada  3.45m  \n",
      "6       Benin  1.45m  \n"
     ]
    }
   ],
   "source": [
    "# importation of libraries we will need\n",
    "import pandas as pd\n",
    "import numpy as np\n",
    "import re\n",
    "\n",
    "# loading and display of data\n",
    "data = pd.read_csv('persons.csv')\n",
    "print(data)"
   ]
  },
  {
   "cell_type": "code",
   "execution_count": 44,
   "id": "b6f40266-3bc8-4ead-82c6-952502c3584d",
   "metadata": {},
   "outputs": [],
   "source": [
    "VALID_COUNTRIES = ['France', 'Madagascar', 'Benin', 'Germany'\n",
    "                  , 'Canada']\n",
    "                  \n",
    "def check_country(country):\n",
    "    if country not in VALID_COUNTRIES:\n",
    "        print(' - \"{}\" is not a valid country, we delete it.' \\\n",
    "            .format(country))\n",
    "        return np.NaN\n",
    "    return country"
   ]
  },
  {
   "cell_type": "code",
   "execution_count": 46,
   "id": "6f8700f0-da21-4727-b2c6-c68f977c72e5",
   "metadata": {},
   "outputs": [],
   "source": [
    "def first(string):\n",
    "    parts = string.split(',')\n",
    "    first_part = parts[0]\n",
    "    if len(parts) >= 2:\n",
    "        print(' - There are several parts in \"{}\", we are only keeping {}.'\\\n",
    "            .format(parts,first_part))  \n",
    "    return first_part"
   ]
  },
  {
   "cell_type": "code",
   "execution_count": 50,
   "id": "864ecfab-77d7-4b00-8148-fe844904760d",
   "metadata": {},
   "outputs": [],
   "source": [
    "def convert_height(height):\n",
    "    found = re.search(r'\\d\\.\\d{2}m', height)\n",
    "    if found is None:\n",
    "        print('{} is not in the right format. It will be ignored.'.format(height))\n",
    "        return np.NaN\n",
    "    else:\n",
    "        value = height[:-1] # the last character is removed: 'm'\n",
    "        return float(value)\n",
    "\n",
    "def fill_height(height, replacement):\n",
    "    if pd.isnull(height):\n",
    "        print('Imputation by the mean : {}'.format(replacement))\n",
    "        return replacement\n",
    "    return height"
   ]
  },
  {
   "cell_type": "code",
   "execution_count": 52,
   "id": "d5481973-94bb-4732-8bdb-a11fe885519e",
   "metadata": {},
   "outputs": [
    {
     "name": "stdout",
     "output_type": "stream",
     "text": [
      " - There are several parts in \"['marco23@example.com', ' mc23@supermail.eu']\", we are only keeping marco23@example.com.\n",
      " - \"nan\" is not a valid country, we delete it.\n",
      " - \"24\" is not a valid country, we delete it.\n",
      "153cm is not in the right format. It will be ignored.\n",
      "Imputation by the mean : 1.52\n",
      "Imputation by the mean : 1.52\n",
      "  first name                     email date_of_birth     country  height\n",
      "0      Leila         leila@example.com    1990-01-23      France    1.49\n",
      "1     Samuel    samuel_329@example.com    2001-09-20         NaN    1.67\n",
      "2     Rodney  choupipoune@supermail.eu           NaT  Madagascar    1.52\n",
      "3       Marc       marco23@example.com    1978-02-10         NaN    1.65\n",
      "4      Harry   helloworld@supermail.eu           NaT     Germany    1.34\n",
      "5      Hanna   hannah2019@supermail.eu    1970-01-01      Canada    1.52\n",
      "6     samuël    samuel_329@example.com           NaT       Benin    1.45\n"
     ]
    }
   ],
   "source": [
    "data['email'] = data['email'].apply(first)\n",
    "data['country'] = data['country'].apply(check_country)\n",
    "data['height'] = [convert_height(t) for t in data['height']]\n",
    "data['height'] = [t if t<3 else np.NaN for t in data['height']]\n",
    "\n",
    "mean_height = data['height'].mean()\n",
    "data['height'] = [fill_height(t, mean_height) for t in data['height']]\n",
    "data['date_of_birth'] = pd.to_datetime(data['date_of_birth'], \n",
    "                                           format='%d/%m/%Y', errors='coerce')\n",
    "print(data)"
   ]
  },
  {
   "cell_type": "code",
   "execution_count": 54,
   "id": "1f58fe70-c80b-4576-98d0-7d05effac7c7",
   "metadata": {},
   "outputs": [
    {
     "name": "stdout",
     "output_type": "stream",
     "text": [
      "153cm is not in the right format. It will be ignored.\n"
     ]
    }
   ],
   "source": [
    "data = pd.read_csv('persons.csv')\n",
    "\n",
    "new_column = []\n",
    "for t in data['height']:\n",
    "    new_column.append(convert_height(t))\n",
    "data['height'] = new_column"
   ]
  },
  {
   "cell_type": "code",
   "execution_count": 56,
   "id": "fae7af62-a4c1-4071-a851-6eeed70aa3e1",
   "metadata": {},
   "outputs": [
    {
     "name": "stdout",
     "output_type": "stream",
     "text": [
      "153cm is not in the right format. It will be ignored.\n"
     ]
    }
   ],
   "source": [
    "data = pd.read_csv('persons.csv')\n",
    "\n",
    "data['height'] = data['height'].apply(convert_height)"
   ]
  },
  {
   "cell_type": "code",
   "execution_count": 60,
   "id": "46c9bc3d-00c9-40c3-bf46-78e02bd4e78b",
   "metadata": {},
   "outputs": [],
   "source": [
    "def convert_height(height):\n",
    "    found = re.search(r'\\d\\.\\d{2}m', height)\n",
    "    if found is None:\n",
    "        print('{} is not in the right format. It will be ignored.'.format(height))\n",
    "        return np.NaN\n",
    "    else:\n",
    "        value = height[:-1] # the last character is removed: 'm'\n",
    "        return float(value)"
   ]
  },
  {
   "cell_type": "code",
   "execution_count": null,
   "id": "7f98a293-6434-4fa0-a4e7-d88a2c625e9b",
   "metadata": {},
   "outputs": [],
   "source": []
  }
 ],
 "metadata": {
  "kernelspec": {
   "display_name": "Python [conda env:base] *",
   "language": "python",
   "name": "conda-base-py"
  },
  "language_info": {
   "codemirror_mode": {
    "name": "ipython",
    "version": 3
   },
   "file_extension": ".py",
   "mimetype": "text/x-python",
   "name": "python",
   "nbconvert_exporter": "python",
   "pygments_lexer": "ipython3",
   "version": "3.12.7"
  }
 },
 "nbformat": 4,
 "nbformat_minor": 5
}
