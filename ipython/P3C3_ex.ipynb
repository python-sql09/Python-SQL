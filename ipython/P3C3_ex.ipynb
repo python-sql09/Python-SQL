{
  "cells": [
    {
      "cell_type": "markdown",
      "metadata": {
        "id": "PUIweiGe9fjt"
      },
      "source": [
        "![openclassrooms](https://s3.eu-west-1.amazonaws.com/course.oc-static.com/courses/6204541/1+HnqdJ-5ofxiPP9HIxdNdpw.jpeg)\n",
        "\n",
        "# Learn Python Basics for Data Analysis\n",
        "\n",
        "## Choose the Appropriate Loop\n",
        "\n",
        "<br><br>\n",
        "\n",
        "**Writing FOR and WHILE loops**\n",
        "\n",
        "Create a `for` loop that prints: \"OpenClassrooms is really great!\" five times"
      ]
    },
    {
      "cell_type": "code",
      "execution_count": 1,
      "metadata": {
        "id": "xElc-kOx9fjv",
        "outputId": "e0e23629-e559-4520-e439-66f3771683b9",
        "colab": {
          "base_uri": "https://localhost:8080/"
        }
      },
      "outputs": [
        {
          "output_type": "stream",
          "name": "stdout",
          "text": [
            "OpenClassrooms is really great!\n",
            "OpenClassrooms is really great!\n",
            "OpenClassrooms is really great!\n",
            "OpenClassrooms is really great!\n",
            "OpenClassrooms is really great!\n"
          ]
        }
      ],
      "source": [
        "str = \"OpenClassrooms is really great!\"\n",
        "for i in range(5):\n",
        "  print(str)\n"
      ]
    },
    {
      "cell_type": "markdown",
      "metadata": {
        "id": "O0CYek3D9fjw"
      },
      "source": [
        "Change your `for` loop to a `while` loop:"
      ]
    },
    {
      "cell_type": "code",
      "execution_count": 3,
      "metadata": {
        "id": "poigJ0nT9fjx",
        "outputId": "bdfd9a59-38af-4128-d4b6-a6a0105254e1",
        "colab": {
          "base_uri": "https://localhost:8080/"
        }
      },
      "outputs": [
        {
          "output_type": "stream",
          "name": "stdout",
          "text": [
            "OpenClassrooms is really great!\n",
            "OpenClassrooms is really great!\n",
            "OpenClassrooms is really great!\n",
            "OpenClassrooms is really great!\n",
            "OpenClassrooms is really great!\n"
          ]
        }
      ],
      "source": [
        "i = 0\n",
        "str = \"OpenClassrooms is really great!\"\n",
        "while i < 5:\n",
        "  print(str)\n",
        "  i += 1"
      ]
    },
    {
      "cell_type": "code",
      "source": [
        "for i in range(5):\n",
        "    print(\"OpenClassrooms is really great!\")"
      ],
      "metadata": {
        "id": "e-cKy9b2TrQS",
        "outputId": "6781d935-0110-41c1-8947-676824181df7",
        "colab": {
          "base_uri": "https://localhost:8080/"
        }
      },
      "execution_count": 4,
      "outputs": [
        {
          "output_type": "stream",
          "name": "stdout",
          "text": [
            "OpenClassrooms is really great!\n",
            "OpenClassrooms is really great!\n",
            "OpenClassrooms is really great!\n",
            "OpenClassrooms is really great!\n",
            "OpenClassrooms is really great!\n"
          ]
        }
      ]
    },
    {
      "cell_type": "code",
      "source": [
        "i = 0\n",
        "while i < 5:\n",
        "    print(\"OpenClassrooms is really great!\")\n",
        "    i += 1"
      ],
      "metadata": {
        "id": "xm_4i57yUGez",
        "outputId": "115c05ae-1b4d-43b4-9b0b-56e76d4e5fb4",
        "colab": {
          "base_uri": "https://localhost:8080/"
        }
      },
      "execution_count": 5,
      "outputs": [
        {
          "output_type": "stream",
          "name": "stdout",
          "text": [
            "OpenClassrooms is really great!\n",
            "OpenClassrooms is really great!\n",
            "OpenClassrooms is really great!\n",
            "OpenClassrooms is really great!\n",
            "OpenClassrooms is really great!\n"
          ]
        }
      ]
    },
    {
      "cell_type": "code",
      "source": [],
      "metadata": {
        "id": "U4quqGQHUMPi"
      },
      "execution_count": null,
      "outputs": []
    }
  ],
  "metadata": {
    "colab": {
      "name": "P3C3 ex.ipynb",
      "provenance": []
    },
    "kernelspec": {
      "display_name": "Python 3.9.7 ('base')",
      "language": "python",
      "name": "python3"
    },
    "language_info": {
      "codemirror_mode": {
        "name": "ipython",
        "version": 3
      },
      "file_extension": ".py",
      "mimetype": "text/x-python",
      "name": "python",
      "nbconvert_exporter": "python",
      "pygments_lexer": "ipython3",
      "version": "3.9.7"
    },
    "vscode": {
      "interpreter": {
        "hash": "0d5b2adc70bf0954b7415f3bc8543415bd6d361c5e0c2c03226caf4972d8a62d"
      }
    }
  },
  "nbformat": 4,
  "nbformat_minor": 0
}